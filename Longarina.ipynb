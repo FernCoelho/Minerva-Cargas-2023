{
 "cells": [
  {
   "cell_type": "code",
   "execution_count": 64,
   "id": "d3da7b37",
   "metadata": {},
   "outputs": [],
   "source": [
    "# inputs and imports\n",
    "\n",
    "import pandas as pd\n",
    "import matplotlib.pyplot as plt\n",
    "\n",
    "df = pd.read_csv(r'C:\\Users\\Ferna\\Python_Codes_2\\wing_spar_bending_moments.csv')"
   ]
  },
  {
   "cell_type": "code",
   "execution_count": 65,
   "id": "5e11adc0",
   "metadata": {},
   "outputs": [
    {
     "name": "stdout",
     "output_type": "stream",
     "text": [
      "<class 'pandas.core.frame.DataFrame'>\n",
      "RangeIndex: 991 entries, 0 to 990\n",
      "Data columns (total 2 columns):\n",
      " #   Column   Non-Null Count  Dtype  \n",
      "---  ------   --------------  -----  \n",
      " 0   posicao  991 non-null    float64\n",
      " 1   momento  991 non-null    float64\n",
      "dtypes: float64(2)\n",
      "memory usage: 15.6 KB\n"
     ]
    }
   ],
   "source": [
    "df.info()"
   ]
  },
  {
   "cell_type": "code",
   "execution_count": 66,
   "id": "d1e387de",
   "metadata": {},
   "outputs": [
    {
     "data": {
      "text/html": [
       "<div>\n",
       "<style scoped>\n",
       "    .dataframe tbody tr th:only-of-type {\n",
       "        vertical-align: middle;\n",
       "    }\n",
       "\n",
       "    .dataframe tbody tr th {\n",
       "        vertical-align: top;\n",
       "    }\n",
       "\n",
       "    .dataframe thead th {\n",
       "        text-align: right;\n",
       "    }\n",
       "</style>\n",
       "<table border=\"1\" class=\"dataframe\">\n",
       "  <thead>\n",
       "    <tr style=\"text-align: right;\">\n",
       "      <th></th>\n",
       "      <th>posicao</th>\n",
       "      <th>momento</th>\n",
       "    </tr>\n",
       "  </thead>\n",
       "  <tbody>\n",
       "    <tr>\n",
       "      <th>0</th>\n",
       "      <td>0.990</td>\n",
       "      <td>177.236946</td>\n",
       "    </tr>\n",
       "    <tr>\n",
       "      <th>1</th>\n",
       "      <td>0.991</td>\n",
       "      <td>177.236946</td>\n",
       "    </tr>\n",
       "    <tr>\n",
       "      <th>2</th>\n",
       "      <td>0.992</td>\n",
       "      <td>177.236946</td>\n",
       "    </tr>\n",
       "    <tr>\n",
       "      <th>3</th>\n",
       "      <td>0.993</td>\n",
       "      <td>177.236946</td>\n",
       "    </tr>\n",
       "    <tr>\n",
       "      <th>4</th>\n",
       "      <td>0.994</td>\n",
       "      <td>177.236946</td>\n",
       "    </tr>\n",
       "  </tbody>\n",
       "</table>\n",
       "</div>"
      ],
      "text/plain": [
       "   posicao     momento\n",
       "0    0.990  177.236946\n",
       "1    0.991  177.236946\n",
       "2    0.992  177.236946\n",
       "3    0.993  177.236946\n",
       "4    0.994  177.236946"
      ]
     },
     "execution_count": 66,
     "metadata": {},
     "output_type": "execute_result"
    }
   ],
   "source": [
    "df.head()"
   ]
  },
  {
   "cell_type": "code",
   "execution_count": 67,
   "id": "e16292e3",
   "metadata": {},
   "outputs": [],
   "source": [
    "def circular_section (D_ext,thickness,bending_moment,yield_strength):\n",
    "    \"\"\"Calculations of the inertial moments for a circular section according to ROARKS and SARKINS\n",
    "    inputs in mm, N.m and MPa --> output in mm^4\"\"\"\n",
    "\n",
    "    d_int = D_ext-(thickness*2)                     # internal diameter [mm]\n",
    "    I_max = (3.14159*((D_ext**4)-(d_int**4)))/32    # obtained inertial moment [mm^4]\n",
    "\n",
    "    c = D_ext/2     # neutral line\n",
    "    CS = 1.5        # safety factor, defined by standard\n",
    "    I_min = bending_moment*1e3*c/(yield_strength/CS)    # required moment of inertia\n",
    "\n",
    "    # print('needed and obtained')\n",
    "    return (I_min, I_max)"
   ]
  },
  {
   "cell_type": "code",
   "execution_count": 68,
   "id": "a5ff8f2e",
   "metadata": {},
   "outputs": [
    {
     "name": "stdout",
     "output_type": "stream",
     "text": [
      "needed and obtained\n",
      "(872.5274725274726, 5401.964005)\n",
      "needed and obtained\n",
      "(523.5164835164835, 1054.003445)\n"
     ]
    }
   ],
   "source": [
    "'''o calculo do momento inercial obtido nao bate com ROARKS nem SARKINS por um fator de 1/2'''\n",
    "print(circular_section(20,1,15.88,273))\n",
    "print(circular_section(12,1,15.88,273))"
   ]
  },
  {
   "cell_type": "code",
   "execution_count": 69,
   "id": "a2ab0531",
   "metadata": {},
   "outputs": [
    {
     "name": "stdout",
     "output_type": "stream",
     "text": [
      "needed and obtained\n"
     ]
    },
    {
     "data": {
      "text/plain": [
       "(12222.222222222223, 12692.023599999999)"
      ]
     },
     "execution_count": 69,
     "metadata": {},
     "output_type": "execute_result"
    }
   ],
   "source": [
    "'''como seria o calculo pro nosso processo com o calculo atualizado, o projeto se manteria o mesmo'''\n",
    "circular_section(22,2,200,270)"
   ]
  },
  {
   "cell_type": "code",
   "execution_count": 133,
   "id": "2193d6e3",
   "metadata": {},
   "outputs": [],
   "source": [
    "def rectangular_section (heigth,base,base_thickness,side_thickness,bending_moment,yield_strength):\n",
    "    '''Calculations of the inertial moments for a rectangular section according to SARKINS\n",
    "    inputs in mm, N.mm and MPa --> output in mm^4'''\n",
    "\n",
    "    h = heigth - 2*base_thickness   # internal heigth\n",
    "    b = base - 2*side_thickness     # internal base\n",
    "\n",
    "    Jmax_x = round(((base*heigth**3)-(b*h**3))/12,3) # moment of inertia (x axis)\n",
    "    Jmax_y = round(((heigth*base**3)-(h*b**3))/12,3) # moment of inertia (y axis)\n",
    "\n",
    "    cv = heigth/2   # vertical neutral line\n",
    "    ch = base/2     # horizontal neutral line\n",
    "    CS = 1.5        # safety factor, defined by standard\n",
    "    Jneeded_x = round(bending_moment*1e3*ch/(yield_strength/CS),3)    # needed inertial moment (x axis)\n",
    "    Jneeded_y = round(bending_moment*1e3*cv/(yield_strength/CS),3)    # needed inertial moment (y axis)\n",
    "\n",
    "    # print('needed in x, obtained in x, needed in y, obtained in y')\n",
    "    return (Jneeded_x,Jmax_x,Jneeded_y,Jmax_y,)"
   ]
  },
  {
   "cell_type": "code",
   "execution_count": 145,
   "id": "d45b5c04",
   "metadata": {},
   "outputs": [
    {
     "data": {
      "text/plain": [
       "(4870.879, 7202.167, 14125.549, 1264.667)"
      ]
     },
     "execution_count": 145,
     "metadata": {},
     "output_type": "execute_result"
    }
   ],
   "source": [
    "rectangular_section(29,10,1,1,177.3,273)"
   ]
  },
  {
   "cell_type": "code",
   "execution_count": 71,
   "id": "956f8a7b",
   "metadata": {},
   "outputs": [],
   "source": [
    "# calculo da constante torcional para uma seção retangular\n",
    "# slideshare.net/JanelsonBrito/aula-02-torcao (slide 52)\n",
    "\n",
    "def J_ret (B,H,esp_base,esp_lat):\n",
    "    '''J = twisting constant or polar moment of inertia of the section [in millimeter]'''\n",
    "\n",
    "    b_j = B-esp_lat     # base da secao media\n",
    "    h_j = H-esp_base    # largura da secao media\n",
    "\n",
    "    return round((2*b_j**2*h_j**2*esp_lat*esp_base)/(b_j*esp_lat+h_j*esp_base),3)"
   ]
  },
  {
   "cell_type": "code",
   "execution_count": 72,
   "id": "0676b3d1",
   "metadata": {},
   "outputs": [],
   "source": [
    "# another way to calculate the torcional constant\n",
    "# https://app.uff.br/riuff/bitstream/handle/1/16135/PROJETO%20FINAL%20JOAO%20PAULO%20COUTINHO%20CARDOSO%20-%20Joao%20Paulo%20Coutinho%20Cardoso.pdf;jsessionid=EA9B4D10021E437D28A1D65DE44B877B?sequence=1\n",
    "\n",
    "def J_general (A_m,per,t):\n",
    "    '''general solution for the torcional constant\n",
    "    A_m = average area\n",
    "    per = perimeter\n",
    "    t = thickness\n",
    "    '''\n",
    "    return (4*A_m**2)/(per/t)"
   ]
  },
  {
   "cell_type": "code",
   "execution_count": 73,
   "id": "1cbb59e7",
   "metadata": {},
   "outputs": [],
   "source": [
    "# calculating the angle of twist, according to the following literature :\n",
    "# https://wp.ufpel.edu.br/alinepaliga/files/2014/08/Tor%C3%A7%C3%A3o.pdf (slide 25)\n",
    "\n",
    "def twist_angle (T,l,G,A_m,per,t):\n",
    "    '''\n",
    "    calculating the angle of twist of a section (radians)\n",
    "    T = twisting moment\n",
    "    l = length of the member\n",
    "    J = twisting constant or polar moment of inertia of the section\n",
    "    G = modulus of rigidity of the materia\n",
    "    A_m = average area\n",
    "    per = perimeter\n",
    "    t = thickness\n",
    "    [all the inputs in millimeter]    \n",
    "    '''\n",
    "    return (T*l)*per/(4*A_m**2*G*t)"
   ]
  },
  {
   "cell_type": "code",
   "execution_count": 74,
   "id": "aa774a58",
   "metadata": {},
   "outputs": [],
   "source": [
    "# testing the formula seen in Roarks and in slideshare.net/JanelsonBrito/aula-02-torcao (slide 56)\n",
    "# appling in the exercise seen in https://wp.ufpel.edu.br/alinepaliga/files/2014/08/Tor%C3%A7%C3%A3o.pdf (slide 26)\n",
    "\n",
    "def twist_angle2 (T,l,G,J):\n",
    "    '''\n",
    "    calculating the angle of twist of a section (radians)  \n",
    "    T = twisting moment\n",
    "    l = length of the member\n",
    "    J = twisting constant or polar moment of inertia of the section\n",
    "    G = modulus of rigidity of the materia\n",
    "    '''\n",
    "    return (T*l)/(G*J)"
   ]
  },
  {
   "cell_type": "code",
   "execution_count": null,
   "id": "6e4dab5f",
   "metadata": {},
   "outputs": [
    {
     "data": {
      "text/plain": [
       "0.003923076923076923"
      ]
     },
     "execution_count": 88,
     "metadata": {},
     "output_type": "execute_result"
    }
   ],
   "source": [
    "# exercicio https://wp.ufpel.edu.br/alinepaliga/files/2014/08/Tor%C3%A7%C3%A3o.pdf slide (25)\n",
    "# resultado perfeito, mas a unnidade da tensao de cisalhamento esta em KPa ao inves de GPa (na propria resolucao do slide o autor faz isso)\n",
    "\n",
    "twist_angle(85e3,1.5e3,26e3,50**2,50*4,10)"
   ]
  },
  {
   "cell_type": "code",
   "execution_count": null,
   "id": "ef8e7b2a",
   "metadata": {},
   "outputs": [
    {
     "data": {
      "text/plain": [
       "0.005069173835966163"
      ]
     },
     "execution_count": 89,
     "metadata": {},
     "output_type": "execute_result"
    }
   ],
   "source": [
    "# exercicio https://wp.ufpel.edu.br/alinepaliga/files/2014/08/Tor%C3%A7%C3%A3o.pdf slide (26)\n",
    "# resultado um pouco diferente, usando o valor médio de espessura de 4.2 (o resultado mais proximo seria com 3.8 de espessura)\n",
    "\n",
    "twist_angle(35e3,2e3,38e3,35*57,2*35+2*57,4.2)"
   ]
  },
  {
   "cell_type": "code",
   "execution_count": null,
   "id": "2423bd26",
   "metadata": {},
   "outputs": [
    {
     "data": {
      "text/plain": [
       "0.005723367942323973"
      ]
     },
     "execution_count": 90,
     "metadata": {},
     "output_type": "execute_result"
    }
   ],
   "source": [
    "# utilizando o segundo algoritmo no mesmo exercicio anterior\n",
    "# https://wp.ufpel.edu.br/alinepaliga/files/2014/08/Tor%C3%A7%C3%A3o.pdf slide (26)\n",
    "# resultados um pouco diferentes\n",
    "\n",
    "twist_angle2(35e3,2e3,38e3,J_ret(60,40,3,5))"
   ]
  },
  {
   "cell_type": "code",
   "execution_count": null,
   "id": "5adba5a9",
   "metadata": {},
   "outputs": [
    {
     "name": "stdout",
     "output_type": "stream",
     "text": [
      "valor encontrado pela func propria para secao retangular: 16177.526\n",
      "\n",
      "needed in x, obtained in x, needed in y, obtained in y\n",
      "valor encontrado pela funcao desenvolvida com o JG: (187500.0, 10812.435, 187500.0, 10812.435)\n",
      "valor encontrado pela funcao geral: 18749.999999999996\n"
     ]
    }
   ],
   "source": [
    "# testando a constante com valores do TCC (pag 33)\n",
    "# https://app.uff.br/riuff/bitstream/handle/1/16135/PROJETO%20FINAL%20JOAO%20PAULO%20COUTINHO%20CARDOSO%20-%20Joao%20Paulo%20Coutinho%20Cardoso.pdf;jsessionid=EA9B4D10021E437D28A1D65DE44B877B?sequence=1\n",
    "# resultados coerentes --> incoerente com o primeiro codigo (montado com o JG)\n",
    "\n",
    "print(str.format('valor encontrado pela func propria para secao retangular: {}',(J_ret(25,25,1.2,1.2))))\n",
    "print(str.format('valor encontrado pela funcao desenvolvida com o JG: {}',rectangular_section(25,25,1.2,1.2)))\n",
    "print(str.format('valor encontrado pela funcao geral: {}',J_general(25*25,4*25,1.2))) #FALTOU SUBTRAIRRRRRR"
   ]
  },
  {
   "cell_type": "code",
   "execution_count": 171,
   "id": "a06c9bb3",
   "metadata": {},
   "outputs": [],
   "source": [
    "# torcional stiffness calculation by https://app.uff.br/riuff/bitstream/handle/1/16135/PROJETO%20FINAL%20JOAO%20PAULO%20COUTINHO%20CARDOSO%20-%20Joao%20Paulo%20Coutinho%20Cardoso.pdf;jsessionid=EA9B4D10021E437D28A1D65DE44B877B?sequence=1\n",
    "def K (G,J,l):\n",
    "    '''torcional stiffness calculation'''\n",
    "    return round((G*J)/l,3)"
   ]
  },
  {
   "cell_type": "code",
   "execution_count": 77,
   "id": "cf4ffb5c",
   "metadata": {},
   "outputs": [
    {
     "name": "stdout",
     "output_type": "stream",
     "text": [
      "valor encontrado pela func propria para secao retangular: 16199.524\n",
      "valor encontrado pela funcao geral: 16199.523899999997\n",
      "needed in x, obtained in x, needed in y, obtained in y\n",
      "valor encontrado pela funcao desenvolvida com o JG: (10.989, 13083.445, 10.989, 13083.445)\n"
     ]
    }
   ],
   "source": [
    "# testing for the SAE paper\n",
    "print(str.format('valor encontrado pela func propria para secao retangular: {}',(J_ret(20,20,6.3,6.3))))\n",
    "print(str.format('valor encontrado pela funcao geral: {}',J_general(13.7*13.7,4*13.7,6.3)))\n",
    "print(str.format('valor encontrado pela funcao desenvolvida com o JG: {}',rectangular_section(20,20,6.3,6.3,200,273)))"
   ]
  },
  {
   "cell_type": "code",
   "execution_count": null,
   "id": "076ebd3e",
   "metadata": {},
   "outputs": [
    {
     "name": "stdout",
     "output_type": "stream",
     "text": [
      "11093333.333\n",
      "11093333.333\n"
     ]
    }
   ],
   "source": [
    "# testing the variations of stiffness for differents J's\n",
    "print(K(26e3,J_ret(50,50,10,10),1.5e3))\n",
    "print(K(26e3,J_general(40*40,4*40,10),1.5e3))"
   ]
  },
  {
   "cell_type": "code",
   "execution_count": 192,
   "id": "8b3d63f6",
   "metadata": {},
   "outputs": [
    {
     "name": "stdout",
     "output_type": "stream",
     "text": [
      "89\n",
      "177.23694626866842\n"
     ]
    }
   ],
   "source": [
    "# por que eu fiz isso??? eu nao preciso disso kk\n",
    "\n",
    "def p0(wingspan,fuselage_width,first_profile_spacing):\n",
    "    '''function to find the initial position of the bending moment\n",
    "    inputs in meter --> index in df'''\n",
    "\n",
    "    p0 = wingspan/2 + fuselage_width/2 + first_profile_spacing \n",
    "    return df.posicao.to_list().index(p0)\n",
    "\n",
    "print(p0(1.98,0.17,0.004))\n",
    "print(df.momento[p0(1.98,0.17,0.004)])"
   ]
  },
  {
   "cell_type": "code",
   "execution_count": 193,
   "id": "0e4e2e1b",
   "metadata": {},
   "outputs": [
    {
     "data": {
      "text/html": [
       "<div>\n",
       "<style scoped>\n",
       "    .dataframe tbody tr th:only-of-type {\n",
       "        vertical-align: middle;\n",
       "    }\n",
       "\n",
       "    .dataframe tbody tr th {\n",
       "        vertical-align: top;\n",
       "    }\n",
       "\n",
       "    .dataframe thead th {\n",
       "        text-align: right;\n",
       "    }\n",
       "</style>\n",
       "<table border=\"1\" class=\"dataframe\">\n",
       "  <thead>\n",
       "    <tr style=\"text-align: right;\">\n",
       "      <th></th>\n",
       "      <th>posicao</th>\n",
       "      <th>momento</th>\n",
       "      <th>square_optimization</th>\n",
       "      <th>torcional_stiffness_for_square_profile</th>\n",
       "    </tr>\n",
       "  </thead>\n",
       "  <tbody>\n",
       "    <tr>\n",
       "      <th>0</th>\n",
       "      <td>0.990</td>\n",
       "      <td>177.236946</td>\n",
       "      <td>31</td>\n",
       "      <td>6.651545e+12</td>\n",
       "    </tr>\n",
       "    <tr>\n",
       "      <th>1</th>\n",
       "      <td>0.991</td>\n",
       "      <td>177.236946</td>\n",
       "      <td>31</td>\n",
       "      <td>6.644834e+12</td>\n",
       "    </tr>\n",
       "    <tr>\n",
       "      <th>2</th>\n",
       "      <td>0.992</td>\n",
       "      <td>177.236946</td>\n",
       "      <td>31</td>\n",
       "      <td>6.651545e+12</td>\n",
       "    </tr>\n",
       "    <tr>\n",
       "      <th>3</th>\n",
       "      <td>0.993</td>\n",
       "      <td>177.236946</td>\n",
       "      <td>31</td>\n",
       "      <td>6.644834e+12</td>\n",
       "    </tr>\n",
       "    <tr>\n",
       "      <th>4</th>\n",
       "      <td>0.994</td>\n",
       "      <td>177.236946</td>\n",
       "      <td>31</td>\n",
       "      <td>6.644834e+12</td>\n",
       "    </tr>\n",
       "    <tr>\n",
       "      <th>...</th>\n",
       "      <td>...</td>\n",
       "      <td>...</td>\n",
       "      <td>...</td>\n",
       "      <td>...</td>\n",
       "    </tr>\n",
       "    <tr>\n",
       "      <th>986</th>\n",
       "      <td>1.976</td>\n",
       "      <td>0.046484</td>\n",
       "      <td>10</td>\n",
       "      <td>6.995951e+10</td>\n",
       "    </tr>\n",
       "    <tr>\n",
       "      <th>987</th>\n",
       "      <td>1.977</td>\n",
       "      <td>0.034863</td>\n",
       "      <td>10</td>\n",
       "      <td>6.992413e+10</td>\n",
       "    </tr>\n",
       "    <tr>\n",
       "      <th>988</th>\n",
       "      <td>1.978</td>\n",
       "      <td>0.023242</td>\n",
       "      <td>10</td>\n",
       "      <td>6.988878e+10</td>\n",
       "    </tr>\n",
       "    <tr>\n",
       "      <th>989</th>\n",
       "      <td>1.979</td>\n",
       "      <td>0.011621</td>\n",
       "      <td>10</td>\n",
       "      <td>6.985346e+10</td>\n",
       "    </tr>\n",
       "    <tr>\n",
       "      <th>990</th>\n",
       "      <td>1.980</td>\n",
       "      <td>0.000000</td>\n",
       "      <td>10</td>\n",
       "      <td>6.981818e+10</td>\n",
       "    </tr>\n",
       "  </tbody>\n",
       "</table>\n",
       "<p>991 rows × 4 columns</p>\n",
       "</div>"
      ],
      "text/plain": [
       "     posicao     momento  square_optimization  \\\n",
       "0      0.990  177.236946                   31   \n",
       "1      0.991  177.236946                   31   \n",
       "2      0.992  177.236946                   31   \n",
       "3      0.993  177.236946                   31   \n",
       "4      0.994  177.236946                   31   \n",
       "..       ...         ...                  ...   \n",
       "986    1.976    0.046484                   10   \n",
       "987    1.977    0.034863                   10   \n",
       "988    1.978    0.023242                   10   \n",
       "989    1.979    0.011621                   10   \n",
       "990    1.980    0.000000                   10   \n",
       "\n",
       "     torcional_stiffness_for_square_profile  \n",
       "0                              6.651545e+12  \n",
       "1                              6.644834e+12  \n",
       "2                              6.651545e+12  \n",
       "3                              6.644834e+12  \n",
       "4                              6.644834e+12  \n",
       "..                                      ...  \n",
       "986                            6.995951e+10  \n",
       "987                            6.992413e+10  \n",
       "988                            6.988878e+10  \n",
       "989                            6.985346e+10  \n",
       "990                            6.981818e+10  \n",
       "\n",
       "[991 rows x 4 columns]"
      ]
     },
     "execution_count": 193,
     "metadata": {},
     "output_type": "execute_result"
    }
   ],
   "source": [
    "def square_optimization (lamination_thickness,minimal_thickness_addimited,tensile_strength_expected):\n",
    "    '''optimization for a square wing spar profile\n",
    "    inputs in mm, MPa--> list'''\n",
    "\n",
    "    width_x_list=[] # list of the best horizontal width for each point after the fuselage\n",
    "    torcional_stiffness_list=[]\n",
    "\n",
    "    for moment in df['momento']:\n",
    "        for x in range (minimal_thickness_addimited,48):\n",
    "            if rectangular_section(x,x,lamination_thickness,lamination_thickness,moment,tensile_strength_expected)[0] < rectangular_section(x,x,lamination_thickness,lamination_thickness,moment,tensile_strength_expected)[1]:\n",
    "                list.append(width_x_list, x)\n",
    "                torcional_stiffness = K(tensile_strength_expected*1e6,J_ret(x,x,lamination_thickness,lamination_thickness),df.posicao[df.momento.to_list().index(moment)])\n",
    "                list.append(torcional_stiffness_list,torcional_stiffness)\n",
    "                break\n",
    "    return (width_x_list, torcional_stiffness_list)\n",
    "\n",
    "df['square_optimization'] = square_optimization(2,10,135)[0]\n",
    "df['torcional_stiffness_for_square_profile'] = square_optimization(2,10,135)[1]\n",
    "df"
   ]
  },
  {
   "cell_type": "code",
   "execution_count": 196,
   "id": "f8b5d3eb",
   "metadata": {},
   "outputs": [
    {
     "data": {
      "text/plain": [
       "18.287588294651865"
      ]
     },
     "execution_count": 196,
     "metadata": {},
     "output_type": "execute_result"
    }
   ],
   "source": []
  },
  {
   "cell_type": "code",
   "execution_count": 197,
   "id": "84522214",
   "metadata": {},
   "outputs": [
    {
     "data": {
      "text/plain": [
       "31.886108980162636"
      ]
     },
     "execution_count": 197,
     "metadata": {},
     "output_type": "execute_result"
    }
   ],
   "source": [
    "# torcional stiffness in m^4\n",
    "# considering 270 MPa\n",
    "\n",
    "k0 = K(270e6,J_general(df.square_optimization.mean()*df.square_optimization.mean(),4*df.square_optimization.mean(),2)*1e-12,0.99)\n",
    "\n",
    "def vd ():\n",
    "    '''velocidade de divergincia'''\n",
    "\n",
    "    k0\n",
    "    p = 1.1994 # densidade do ar no local da competicao\n",
    "    S = 0.765 # Area da asa\n",
    "    e = 0.001 # Distancia entre os centros elastico e aerodinamico da asa (segundo Silva)\n",
    "    Cla = 3.576\n",
    "\n",
    "    return (k0/(p * S * e * Cla))**(1/2)\n",
    "\n",
    "vd()"
   ]
  },
  {
   "cell_type": "code",
   "execution_count": 194,
   "id": "3b06c229",
   "metadata": {},
   "outputs": [
    {
     "data": {
      "text/plain": [
       "10989.011"
      ]
     },
     "execution_count": 194,
     "metadata": {},
     "output_type": "execute_result"
    }
   ],
   "source": [
    "rectangular_section(20,20,6.3,6.3,200,273)[0]"
   ]
  },
  {
   "cell_type": "code",
   "execution_count": 195,
   "id": "e5f609fe",
   "metadata": {},
   "outputs": [
    {
     "data": {
      "text/plain": [
       "0.99"
      ]
     },
     "execution_count": 195,
     "metadata": {},
     "output_type": "execute_result"
    }
   ],
   "source": [
    "df.posicao[0]"
   ]
  }
 ],
 "metadata": {
  "kernelspec": {
   "display_name": "Python 3.9.12 ('base')",
   "language": "python",
   "name": "python3"
  },
  "language_info": {
   "codemirror_mode": {
    "name": "ipython",
    "version": 3
   },
   "file_extension": ".py",
   "mimetype": "text/x-python",
   "name": "python",
   "nbconvert_exporter": "python",
   "pygments_lexer": "ipython3",
   "version": "3.9.12"
  },
  "vscode": {
   "interpreter": {
    "hash": "ad2bdc8ecc057115af97d19610ffacc2b4e99fae6737bb82f5d7fb13d2f2c186"
   }
  }
 },
 "nbformat": 4,
 "nbformat_minor": 5
}
